{
  "nbformat": 4,
  "nbformat_minor": 0,
  "metadata": {
    "colab": {
      "name": "Untitled2.ipynb",
      "provenance": [],
      "collapsed_sections": [],
      "authorship_tag": "ABX9TyOgt9PDAt8DfeYg+RMyNN8B",
      "include_colab_link": true
    },
    "kernelspec": {
      "name": "python3",
      "display_name": "Python 3"
    },
    "accelerator": "GPU"
  },
  "cells": [
    {
      "cell_type": "markdown",
      "metadata": {
        "id": "view-in-github",
        "colab_type": "text"
      },
      "source": [
        "<a href=\"https://colab.research.google.com/github/jdspell/Art-Gallery/blob/master/charLSTM.ipynb\" target=\"_parent\"><img src=\"https://colab.research.google.com/assets/colab-badge.svg\" alt=\"Open In Colab\"/></a>"
      ]
    },
    {
      "cell_type": "code",
      "metadata": {
        "id": "cV9tNuCvjiGQ",
        "colab_type": "code",
        "colab": {}
      },
      "source": [
        "import numpy as np\n",
        "import torch\n",
        "from torch import nn\n",
        "import torch.nn.functional as F"
      ],
      "execution_count": 0,
      "outputs": []
    },
    {
      "cell_type": "code",
      "metadata": {
        "id": "c6pZ8yVnlMgG",
        "colab_type": "code",
        "colab": {}
      },
      "source": [
        "with open('anna.txt', 'r') as f:\n",
        "  text = f.read()"
      ],
      "execution_count": 0,
      "outputs": []
    },
    {
      "cell_type": "code",
      "metadata": {
        "id": "WsBSOFlglVL2",
        "colab_type": "code",
        "colab": {}
      },
      "source": [
        "#create two dictionaries\n",
        "#1. int2char, maps integers to characters\n",
        "#2. char2int, maps characters to integers\n",
        "\n",
        "chars = tuple(set(text))\n",
        "\n",
        "int2char = dict(enumerate(chars))\n",
        "\n",
        "char2int = { ch: ii for ii, ch in int2char.items() }\n",
        "\n",
        "encoded = np.array([char2int[ch] for ch in text])"
      ],
      "execution_count": 0,
      "outputs": []
    },
    {
      "cell_type": "code",
      "metadata": {
        "id": "TSYeDUtWlYtJ",
        "colab_type": "code",
        "colab": {
          "base_uri": "https://localhost:8080/",
          "height": 55
        },
        "outputId": "587b2c54-3614-4fe1-8d76-cbbe3b1e899b"
      },
      "source": [
        "text[:100]"
      ],
      "execution_count": 6,
      "outputs": [
        {
          "output_type": "execute_result",
          "data": {
            "text/plain": [
              "'Chapter 1\\n\\n\\nHappy families are all alike; every unhappy family is unhappy in its own\\nway.\\n\\nEverythin'"
            ]
          },
          "metadata": {
            "tags": []
          },
          "execution_count": 6
        }
      ]
    },
    {
      "cell_type": "code",
      "metadata": {
        "id": "vMdXtMUemMni",
        "colab_type": "code",
        "colab": {
          "base_uri": "https://localhost:8080/",
          "height": 125
        },
        "outputId": "8c72acdc-2e9e-4791-ba7e-978b32dd8b41"
      },
      "source": [
        "encoded[:100]"
      ],
      "execution_count": 7,
      "outputs": [
        {
          "output_type": "execute_result",
          "data": {
            "text/plain": [
              "array([31, 29, 79, 53, 17,  0, 77, 30, 74, 21, 21, 21, 60, 79, 53, 53, 58,\n",
              "       30, 50, 79, 42, 62, 40, 62,  0, 41, 30, 79, 77,  0, 30, 79, 40, 40,\n",
              "       30, 79, 40, 62, 22,  0,  5, 30,  0, 47,  0, 77, 58, 30, 68, 23, 29,\n",
              "       79, 53, 53, 58, 30, 50, 79, 42, 62, 40, 58, 30, 62, 41, 30, 68, 23,\n",
              "       29, 79, 53, 53, 58, 30, 62, 23, 30, 62, 17, 41, 30, 78, 39, 23, 21,\n",
              "       39, 79, 58, 49, 21, 21,  4, 47,  0, 77, 58, 17, 29, 62, 23])"
            ]
          },
          "metadata": {
            "tags": []
          },
          "execution_count": 7
        }
      ]
    },
    {
      "cell_type": "code",
      "metadata": {
        "id": "uwb3DhvBmSyy",
        "colab_type": "code",
        "colab": {}
      },
      "source": [
        "def one_hot_encode(arr, n_labels):\n",
        "  #initialize the encoded array\n",
        "  one_hot = np.zeros((np.multiply(*arr.shape), n_labels), dtype=np.float32)\n",
        "\n",
        "  #fill the appropriate elements with ones\n",
        "  one_hot[np.arange(one_hot.shape[0]), arr.flatten()] = 1\n",
        "\n",
        "  #reshape to retrieve the original array\n",
        "  one_hot = one_hot.reshape((*arr.shape, n_labels))\n",
        "\n",
        "  return one_hot"
      ],
      "execution_count": 0,
      "outputs": []
    },
    {
      "cell_type": "code",
      "metadata": {
        "id": "Kl3i8anHp1gJ",
        "colab_type": "code",
        "colab": {}
      },
      "source": [
        "def get_batches(arr, n_seqs, n_steps):\n",
        "  '''\n",
        "  generator that returns batches of size n_seqs * n_steps from arr\n",
        "  '''\n",
        "\n",
        "  batch_size = n_seqs * n_steps\n",
        "  n_batches = len(arr)//batch_size\n",
        "\n",
        "  #keep enough char for full batches\n",
        "  arr = arr[:n_batches * batch_size]\n",
        "\n",
        "  #reshape into n_seqs rows\n",
        "  arr = arr.reshape((n_seqs, -1))\n",
        "\n",
        "  for n in range(0, arr.shape[1], n_steps):\n",
        "\n",
        "    #the features\n",
        "    x = arr[:, n:n+n_steps]\n",
        "\n",
        "    #the targets shifted by one\n",
        "    y = np.zeros_like(x)\n",
        "\n",
        "    try:\n",
        "      y[:, :-1], y[:, -1] = x[:, 1:], arr[:, n+n_steps]\n",
        "    except IndexError:\n",
        "      y[:, :-1], y[:, -1] = x[:, 1:], arr[:, 0]\n",
        "    yield x, y"
      ],
      "execution_count": 0,
      "outputs": []
    },
    {
      "cell_type": "code",
      "metadata": {
        "id": "rKvPIdcbs0Jf",
        "colab_type": "code",
        "colab": {}
      },
      "source": [
        "batches = get_batches(encoded, 10, 50)\n",
        "x, y = next(batches)"
      ],
      "execution_count": 0,
      "outputs": []
    },
    {
      "cell_type": "code",
      "metadata": {
        "id": "pGbM94UPtK0k",
        "colab_type": "code",
        "colab": {
          "base_uri": "https://localhost:8080/",
          "height": 431
        },
        "outputId": "40c916ef-2811-487e-a58b-892bd20b4d59"
      },
      "source": [
        "print('x\\n', x[:10, :10])\n",
        "print('\\ny\\n', y[:10, :10])"
      ],
      "execution_count": 14,
      "outputs": [
        {
          "output_type": "stream",
          "text": [
            "x\n",
            " [[31 29 79 53 17  0 77 30 74 21]\n",
            " [30 79 42 30 23 78 17 30 43 78]\n",
            " [47 62 23 49 21 21  1 13  0 41]\n",
            " [23 30 76 68 77 62 23 43 30 29]\n",
            " [30 62 17 30 62 41 24 30 41 62]\n",
            " [30 73 17 30 39 79 41 21 78 23]\n",
            " [29  0 23 30 59 78 42  0 30 50]\n",
            " [ 5 30 44 68 17 30 23 78 39 30]\n",
            " [17 30 62 41 23 10 17 49 30 51]\n",
            " [30 41 79 62 76 30 17 78 30 29]]\n",
            "\n",
            "y\n",
            " [[29 79 53 17  0 77 30 74 21 21]\n",
            " [79 42 30 23 78 17 30 43 78 62]\n",
            " [62 23 49 21 21  1 13  0 41 24]\n",
            " [30 76 68 77 62 23 43 30 29 62]\n",
            " [62 17 30 62 41 24 30 41 62 77]\n",
            " [73 17 30 39 79 41 21 78 23 40]\n",
            " [ 0 23 30 59 78 42  0 30 50 78]\n",
            " [30 44 68 17 30 23 78 39 30 41]\n",
            " [30 62 41 23 10 17 49 30 51 29]\n",
            " [41 79 62 76 30 17 78 30 29  0]]\n"
          ],
          "name": "stdout"
        }
      ]
    },
    {
      "cell_type": "code",
      "metadata": {
        "id": "9pz5n6t3tZfq",
        "colab_type": "code",
        "colab": {}
      },
      "source": [
        ""
      ],
      "execution_count": 0,
      "outputs": []
    }
  ]
}